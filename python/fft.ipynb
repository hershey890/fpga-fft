{
 "cells": [
  {
   "cell_type": "code",
   "execution_count": 3,
   "metadata": {
    "collapsed": true,
    "pycharm": {
     "name": "#%%\n",
     "is_executing": false
    }
   },
   "outputs": [],
   "source": [
    "import numpy as np\n",
    "def DFT_slow(x):\n",
    "    \"\"\"Compute the discrete Fourier Transform of the 1D array\"\"\"\n",
    "    x = np.asarray(x, dtype=float)\n",
    "    N = x.shape[0] # num col in x\n",
    "    n = np.arange(N) # array of val 1:N\n",
    "    k = n.reshape((N,1)) # transpose\n",
    "    M = np.exp(-2j*np.pi*k*n/N)\n",
    "    return np.dot(M,x)\n",
    "    "
   ]
  },
  {
   "cell_type": "code",
   "execution_count": 19,
   "outputs": [
    {
     "data": {
      "text/plain": "True"
     },
     "metadata": {},
     "output_type": "execute_result",
     "execution_count": 19
    }
   ],
   "source": [
    "x = np.random.random(1024)\n",
    "np.allclose(DFT_slow(x), np.fft.fft(x))\n"
   ],
   "metadata": {
    "collapsed": false,
    "pycharm": {
     "name": "#%%\n",
     "is_executing": false
    }
   }
  },
  {
   "cell_type": "code",
   "execution_count": 16,
   "outputs": [
    {
     "name": "stdout",
     "text": [
      "156 ms ± 8.13 ms per loop (mean ± std. dev. of 7 runs, 10 loops each)\n",
      "26.6 µs ± 412 ns per loop (mean ± std. dev. of 7 runs, 10000 loops each)\n"
     ],
     "output_type": "stream"
    }
   ],
   "source": [
    "%timeit DFT_slow(x)\n",
    "%timeit np.fft.fft(x)"
   ],
   "metadata": {
    "collapsed": false,
    "pycharm": {
     "name": "#%%\n",
     "is_executing": false
    }
   }
  },
  {
   "cell_type": "code",
   "execution_count": 31,
   "outputs": [],
   "source": [
    "def FFT(x):\n",
    "    \"\"\"A recursive implementation of the 1D Cooley-Tukey FFT\"\"\"\n",
    "    x = np.asarray(x,dtype=float)\n",
    "    N = x.shape[0]\n",
    "    \n",
    "    if N % 2 > 0:\n",
    "        raise ValueError(\"size of x must be a power of 2\")\n",
    "    elif N <= 32:\n",
    "        return DFT_slow(x)\n",
    "    else:\n",
    "        X_even = FFT(x[::2])\n",
    "        X_odd = FFT(x[1::2])\n",
    "        factor = np.exp(-2j*np.pi*np.arange(N)/N)\n",
    "        return np.concatenate([X_even + factor[:N//2]*X_odd,\n",
    "                               X_even + factor[N//2:]*X_odd])\n",
    "    "
   ],
   "metadata": {
    "collapsed": false,
    "pycharm": {
     "name": "#%%\n",
     "is_executing": false
    }
   }
  },
  {
   "cell_type": "code",
   "execution_count": 32,
   "outputs": [
    {
     "data": {
      "text/plain": "True"
     },
     "metadata": {},
     "output_type": "execute_result",
     "execution_count": 32
    }
   ],
   "source": [
    "x = np.random.random(1024)\n",
    "np.allclose(FFT(x), np.fft.fft(x))"
   ],
   "metadata": {
    "collapsed": false,
    "pycharm": {
     "name": "#%%\n",
     "is_executing": false
    }
   }
  },
  {
   "cell_type": "code",
   "execution_count": 37,
   "outputs": [],
   "source": [
    "def FFT_vectorized(x):\n",
    "    \"\"\"A vectorized, non-recursive version of the Cooley-Turkey FFT\"\"\"\n",
    "    x = np.asarray(x, dtype=float)\n",
    "    N = x.shape[0]\n",
    "    \n",
    "    if np.log2(N) % 1 > 0:\n",
    "        raise ValueError(\"size of x must be a power of 2\")\n",
    "    \n",
    "    # N_min here is equivalent to the stopping condition above,\n",
    "    # and should be a power of 2\n",
    "    N_min = min(N, 32)\n",
    "    \n",
    "    # Perform an O[N^2] DFT on all length-N_min subproblems at once\n",
    "    n = np.arange(N_min)\n",
    "    k = n[:,None]\n",
    "    M = np.exp(-2j*np.pi*n*k/N_min)\n",
    "    X = np.dot(M, x.reshape((N_min,-1))) # reshape here takes the transpose\n",
    "    \n",
    "    # build-up of each level of the recursive calculations all at once\n",
    "    while X.shape[0] < N:\n",
    "        X_even = X[:, :X.shape[1]//2]\n",
    "        X_odd = X[:, X.shape[1]//2:]\n",
    "        factor = np.exp(-1j*np.pi*np.arange(X.shape[0])\n",
    "                        /X.shape[0])[:,None]\n",
    "        X = np.vstack([X_even + factor * X_odd,\n",
    "                       X_even - factor * X_odd])\n",
    "        \n",
    "    return X.ravel()"
   ],
   "metadata": {
    "collapsed": false,
    "pycharm": {
     "name": "#%%\n",
     "is_executing": false
    }
   }
  },
  {
   "cell_type": "code",
   "execution_count": 38,
   "outputs": [
    {
     "data": {
      "text/plain": "True"
     },
     "metadata": {},
     "output_type": "execute_result",
     "execution_count": 38
    }
   ],
   "source": [
    "x = np.random.random(1024)\n",
    "np.allclose(FFT_vectorized(x), np.fft.fft(x))"
   ],
   "metadata": {
    "collapsed": false,
    "pycharm": {
     "name": "#%%\n",
     "is_executing": false
    }
   }
  },
  {
   "cell_type": "code",
   "execution_count": 39,
   "outputs": [
    {
     "name": "stdout",
     "text": [
      "2.66 ms ± 94.4 µs per loop (mean ± std. dev. of 7 runs, 100 loops each)\n",
      "339 µs ± 29.3 µs per loop (mean ± std. dev. of 7 runs, 1000 loops each)\n",
      "17.3 µs ± 637 ns per loop (mean ± std. dev. of 7 runs, 100000 loops each)\n"
     ],
     "output_type": "stream"
    }
   ],
   "source": [
    "%timeit FFT(x)\n",
    "%timeit FFT_vectorized(x)\n",
    "%timeit np.fft.fft(x)"
   ],
   "metadata": {
    "collapsed": false,
    "pycharm": {
     "name": "#%%\n",
     "is_executing": false
    }
   }
  },
  {
   "cell_type": "code",
   "execution_count": null,
   "outputs": [],
   "source": [
    "def two_comp_dec(x):\n",
    "    for i in range(len(x)):\n",
    "        if (x[i] & (1 << 15)):\n",
    "            x[i] = x[i]-2**16\n",
    "        print(x[i])"
   ],
   "metadata": {
    "collapsed": false,
    "pycharm": {
     "name": "#%%\n"
    }
   }
  },
  {
   "cell_type": "code",
   "execution_count": 4,
   "outputs": [
    {
     "name": "stdout",
     "text": [
      "[-3.+39.j  7.-31.j]\n[-100.+105.j  300. +35.j]\n[10.+26.j -4. +0.j -2. -2.j  0. -4.j]\n[  8023.-3492.j   6992.+8477.j -10023.-3508.j   7008.-9477.j]\n"
     ],
     "output_type": "stream"
    },
    {
     "data": {
      "text/plain": "array([12954.         -4809.j        ,  8844.79333436 -6644.24910262j,\n        -987.65548008 +3067.20809122j, -6834.72596525+14332.9945241j ,\n       -3396.        +12731.j        ,  4379.62333818 -6809.89827901j,\n        9344.41442382-25054.69803878j,  6727.54732719-23828.08895181j,\n        3304.         -2003.j        ,  1900.81199832+18806.04821566j,\n        4117.65548008+19064.79190878j,  3432.33780983 +1991.93055743j,\n        -366.        -13619.j        , -3505.22867087-13543.90083404j,\n        -170.41442382 -4817.30196122j,  8254.84082824  -864.83612973j])"
     },
     "metadata": {},
     "output_type": "execute_result",
     "execution_count": 4
    }
   ],
   "source": [
    "x = (2+4j, -5+35j)\n",
    "print(np.fft.fft(x))\n",
    "\n",
    "x = (100+70j, -200+35j)\n",
    "print(np.fft.fft(x))\n",
    "\n",
    "x = (1+5j, 2+6j, 3+7j, 4+8j)\n",
    "print(np.fft.fft(x))\n",
    "\n",
    "x = (3000-2000j, 23+0j, -4000-1500j, 9000+8j)\n",
    "print(np.fft.fft(x))\n",
    "\n",
    "x = (3000-2000j, 23+0j, -4000-1500j, 9000+8j, 1+5j, 2+6j, 3+7j, 4+8j)\n",
    "np.fft.fft(x)"
   ],
   "metadata": {
    "collapsed": false,
    "pycharm": {
     "name": "#%%\n",
     "is_executing": false
    }
   }
  },
  {
   "cell_type": "code",
   "execution_count": 37,
   "outputs": [
    {
     "name": "stdout",
     "text": [
      "input_real0 <= 16'b0000000001100100;\ninput_imag0 <= 16'b0000000001100100;\ninput_real1 <= 16'b0000000010010110;\ninput_imag1 <= 16'b0000000010010110;\ninput_real2 <= 16'b0000000011001000;\ninput_imag2 <= 16'b0000000011001000;\ninput_real3 <= 16'b0000000010000010;\ninput_imag3 <= 16'b0000000001111000;\ninput_real4 <= 16'b0000000001011010;\ninput_imag4 <= 16'b0000000001000110;\ninput_real5 <= 16'b0000000000101000;\ninput_imag5 <= 16'b0000000000010100;\ninput_real6 <= 16'b1111111111110110;\ninput_imag6 <= 16'b1111111111100010;\ninput_real7 <= 16'b1111111111011000;\ninput_imag7 <= 16'b1111111110111010;\ninput_real8 <= 16'b1111111110110000;\ninput_imag8 <= 16'b1111111110010010;\ninput_real9 <= 16'b1111111101110100;\ninput_imag9 <= 16'b1111111101100000;\ninput_real10 <= 16'b1111111110011100;\ninput_imag10 <= 16'b1111111110001000;\ninput_real11 <= 16'b1111111110111010;\ninput_imag11 <= 16'b1111111110110000;\ninput_real12 <= 16'b1111111111100010;\ninput_imag12 <= 16'b1111111111100010;\ninput_real13 <= 16'b0000000000001010;\ninput_imag13 <= 16'b0000000000000101;\ninput_real14 <= 16'b0000000000101000;\ninput_imag14 <= 16'b0000000000011001;\ninput_real15 <= 16'b0000000001010000;\ninput_imag15 <= 16'b0000000000101101;\n"
     ],
     "output_type": "stream"
    }
   ],
   "source": [
    "# Prints out test values for testing\n",
    "x = [100+100j, 150+150j, 200+200j, 130+120j, 90+70j, 40+20j, -10-30j, -40-70j, \\\n",
    "     -80-110j, -140-160j, -100-120j, -70-80j, -30-30j, 10+5j, 40+25j, 80+45j]\n",
    "x_real = np.real(x)\n",
    "x_imag = np.imag(x)\n",
    "x_real = x_real.astype(dtype=int)\n",
    "x_imag = x_imag.astype(dtype=int)\n",
    "x_real_bin = []\n",
    "x_imag_bin = []\n",
    "for i in range(16):\n",
    "    x_real_bin.append(np.binary_repr(x_real[i], 16))\n",
    "    x_imag_bin.append(np.binary_repr(x_imag[i], 16))\n",
    "for i in range(16):\n",
    "    print('input_real', end='')\n",
    "    print(i, end=' ')\n",
    "    print('<=', end=' 16\\'b')\n",
    "    print(x_real_bin[i], end=';\\n')\n",
    "    print('input_imag', end='')\n",
    "    print(i, end=' ')\n",
    "    print('<=', end=' 16\\'b')\n",
    "    print(x_imag_bin[i], end=';\\n')\n",
    "    "
   ],
   "metadata": {
    "collapsed": false,
    "pycharm": {
     "name": "#%%\n",
     "is_executing": false
    }
   }
  },
  {
   "cell_type": "code",
   "execution_count": 49,
   "outputs": [
    {
     "name": "stdout",
     "text": [
      "Expected Results\n[ 370.         +135.j         1431.97483106 +364.28510797j\n   23.78679656 -176.56854249j  117.61618122 -189.26132408j\n  -50.           -5.j          -56.83178629  -59.15342397j\n  -61.36038969 +104.85281374j  -30.48534663  +30.94802596j\n   50.          +75.j           -2.2334902    -7.50841268j\n   66.21320344  -63.43145751j  -77.82433402  -34.6221524j\n  -50.          -85.j         -252.90955457  +62.37672868j\n -188.63961031  -64.85281374j  310.69349943+1512.93545053j]\n\nActual Results - Real\n360\n52\n-48\n-48\n26\nActual Results - Imaginary\n"
     ],
     "output_type": "stream"
    }
   ],
   "source": [
    "print('Expected Results')\n",
    "print(np.fft.fft(x))\n",
    "\n",
    "y_real = [\\\n",
    "    0b0000000101101000,\\\n",
    "    0b0000000000110100,\\\n",
    "    0b1111111111010000,\\\n",
    "    0b1111111111010000,\\\n",
    "    0b0000000000011010\\\n",
    "]\n",
    "y_imag = [\\\n",
    "    \n",
    "]\n",
    "print('\\nActual Results - Real')\n",
    "two_comp_dec(y_real)\n",
    "print('Actual Results - Imaginary')\n",
    "two_comp_dec(y_imag)"
   ],
   "metadata": {
    "collapsed": false,
    "pycharm": {
     "name": "#%%\n",
     "is_executing": false
    }
   }
  },
  {
   "cell_type": "code",
   "execution_count": null,
   "outputs": [],
   "source": [
    "x = [-3, -2, -1, 0, 1, 2, 3]\n",
    "x = [0b1111001001110000, \\\n",
    "0b1110111011100000, \\\n",
    "0b0010000100011011,\\\n",
    "0b1100111110100101, \\\n",
    "0b1111001001001100,\\\n",
    "0b0010000010111010,\\\n",
    "0b1101101011111001,\\\n",
    "0b0000000101110001]\n",
    "two_comp_dec(x)"
   ],
   "metadata": {
    "collapsed": false,
    "pycharm": {
     "name": "#%%\n"
    }
   }
  }
 ],
 "metadata": {
  "kernelspec": {
   "display_name": "Python 3",
   "language": "python",
   "name": "python3"
  },
  "language_info": {
   "codemirror_mode": {
    "name": "ipython",
    "version": 2
   },
   "file_extension": ".py",
   "mimetype": "text/x-python",
   "name": "python",
   "nbconvert_exporter": "python",
   "pygments_lexer": "ipython2",
   "version": "2.7.6"
  },
  "pycharm": {
   "stem_cell": {
    "cell_type": "raw",
    "source": [],
    "metadata": {
     "collapsed": false
    }
   }
  }
 },
 "nbformat": 4,
 "nbformat_minor": 0
}