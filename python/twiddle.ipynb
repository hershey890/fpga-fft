{
 "cells": [
  {
   "cell_type": "code",
   "execution_count": 191,
   "metadata": {
    "collapsed": true,
    "pycharm": {
     "is_executing": false,
     "name": "#%%\n"
    }
   },
   "outputs": [
    {
     "name": "stdout",
     "text": [
      "4'd0: begin\n\ttwiddle_val_real <= 16'b0111111111111111;\n\ttwiddle_val_imag <= 16'b0000000000000000;\nend\n4'd1: begin\n\ttwiddle_val_real <= 16'b0111011001000001;\n\ttwiddle_val_imag <= 16'b1100111100000101;\nend\n4'd2: begin\n\ttwiddle_val_real <= 16'b0101101010000010;\n\ttwiddle_val_imag <= 16'b1010010101111110;\nend\n4'd3: begin\n\ttwiddle_val_real <= 16'b0011000011111011;\n\ttwiddle_val_imag <= 16'b1000100110111111;\nend\n4'd4: begin\n\ttwiddle_val_real <= 16'b0000000000000000;\n\ttwiddle_val_imag <= 16'b1000000000000001;\nend\n4'd5: begin\n\ttwiddle_val_real <= 16'b1100111100000101;\n\ttwiddle_val_imag <= 16'b1000100110111111;\nend\n4'd6: begin\n\ttwiddle_val_real <= 16'b1010010101111110;\n\ttwiddle_val_imag <= 16'b1010010101111110;\nend\n4'd7: begin\n\ttwiddle_val_real <= 16'b1000100110111111;\n\ttwiddle_val_imag <= 16'b1100111100000101;\nend\n4'd8: begin\n\ttwiddle_val_real <= 16'b1000000000000001;\n\ttwiddle_val_imag <= 16'b0000000000000000;\nend\n4'd9: begin\n\ttwiddle_val_real <= 16'b1000100110111111;\n\ttwiddle_val_imag <= 16'b0011000011111011;\nend\n4'd10: begin\n\ttwiddle_val_real <= 16'b1010010101111110;\n\ttwiddle_val_imag <= 16'b0101101010000010;\nend\n4'd11: begin\n\ttwiddle_val_real <= 16'b1100111100000101;\n\ttwiddle_val_imag <= 16'b0111011001000001;\nend\n4'd12: begin\n\ttwiddle_val_real <= 16'b0000000000000000;\n\ttwiddle_val_imag <= 16'b0111111111111111;\nend\n4'd13: begin\n\ttwiddle_val_real <= 16'b0011000011111011;\n\ttwiddle_val_imag <= 16'b0111011001000001;\nend\n4'd14: begin\n\ttwiddle_val_real <= 16'b0101101010000010;\n\ttwiddle_val_imag <= 16'b0101101010000010;\nend\n4'd15: begin\n\ttwiddle_val_real <= 16'b0111011001000001;\n\ttwiddle_val_imag <= 16'b0011000011111011;\nend\n"
     ],
     "output_type": "stream"
    }
   ],
   "source": [
    "import numpy as np\n",
    "\n",
    "N=16 # N-point FFT\n",
    "omega = np.array(np.exp(-2j*np.pi*np.arange(N)/N))\n",
    "(omega_real, omega_imag) = (np.real(omega), np.imag(omega))\n",
    "(omega_real, omega_imag) = (omega_real*np.power(2, N-1),  omega_imag*np.power(2, N-1))  # \n",
    "(omega_real, omega_imag) = (omega_real.astype(dtype=int), omega_imag.astype(dtype=int)) # float->integer\n",
    "(omega_real_bin, omega_imag_bin) = ([], [])\n",
    "for i in range(N):\n",
    "    if omega_real[i] == np.power(2, N-1):\n",
    "        omega_real[i] = omega_real[i] -1;\n",
    "        #print(omega_real[i])\n",
    "    elif omega_real[i] == -np.power(2, N-1):\n",
    "        omega_real[i] = omega_real[i] + 1;\n",
    "        #print(omega_real[i])\n",
    "    if omega_imag[i] == np.power(2, N-1):\n",
    "        omega_imag[i] = omega_imag[i] -1;\n",
    "        #print(omega_real[i])\n",
    "    elif omega_imag[i] == -np.power(2, N-1):\n",
    "        omega_imag[i] = omega_imag[i] + 1;\n",
    "        #print(omega_real[i])\n",
    "for i in range(N):\n",
    "    omega_real_bin.append(np.binary_repr(omega_real[i], N))\n",
    "    omega_imag_bin.append(np.binary_repr(omega_imag[i], N))\n",
    "\n",
    "# Print out Values\n",
    "for i in range(N):\n",
    "    print('4\\'d', end='')\n",
    "    print(i, end=': begin\\n')\n",
    "    print('\\ttwiddle_val_real <=', end=' 16\\'b')\n",
    "    print(omega_real_bin[i], end=';\\n')\n",
    "    print('\\ttwiddle_val_imag <=', end=' 16\\'b')\n",
    "    print(omega_imag_bin[i], end=';\\n')\n",
    "    print('end')"
   ]
  },
  {
   "cell_type": "code",
   "execution_count": 161,
   "outputs": [
    {
     "name": "stdout",
     "text": [
      "assign twiddle_index[0] = 4'd0;\nassign twiddle_index[1] = 4'd1;\nassign twiddle_index[2] = 4'd2;\nassign twiddle_index[3] = 4'd3;\nassign twiddle_index[4] = 4'd4;\nassign twiddle_index[5] = 4'd5;\nassign twiddle_index[6] = 4'd6;\nassign twiddle_index[7] = 4'd7;\nassign twiddle_index[8] = 4'd8;\nassign twiddle_index[9] = 4'd9;\nassign twiddle_index[10] = 4'd10;\nassign twiddle_index[11] = 4'd11;\nassign twiddle_index[12] = 4'd12;\nassign twiddle_index[13] = 4'd13;\nassign twiddle_index[14] = 4'd14;\nassign twiddle_index[15] = 4'd15;\n"
     ],
     "output_type": "stream"
    }
   ],
   "source": [
    "for i in range(16):\n",
    "    print('assign twiddle_index[', end='')\n",
    "    print(i, end='')\n",
    "    print('] = 4\\'d', end='')\n",
    "    print(i, end='')\n",
    "    print(';')\n",
    "    "
   ],
   "metadata": {
    "collapsed": false,
    "pycharm": {
     "name": "#%%\n",
     "is_executing": false
    }
   }
  },
  {
   "cell_type": "code",
   "execution_count": 188,
   "outputs": [
    {
     "name": "stdout",
     "text": [
      "butterfly_unit bfu0 (\n\t.clk(clk),\n\t.rst(rst),\n\t.i_data_ra(input_real0),\n\t.i_data_ca(input_imag0),\n\t.i_data_rb(input_real8),\n\t.i_data_cb(input_imag8),\n\t.twiddle_num(twiddle_index[0]),\n\t.o_data_ra(input_real8),\n\t.o_data_ca(input_imag8),\n\t.o_data_rb(input_real8),\n\t.o_data_cb(input_imag8));\nbutterfly_unit bfu1 (\n\t.clk(clk),\n\t.rst(rst),\n\t.i_data_ra(input_real1),\n\t.i_data_ca(input_imag1),\n\t.i_data_rb(input_real9),\n\t.i_data_cb(input_imag9),\n\t.twiddle_num(twiddle_index[1]),\n\t.o_data_ra(input_real9),\n\t.o_data_ca(input_imag9),\n\t.o_data_rb(input_real9),\n\t.o_data_cb(input_imag9));\nbutterfly_unit bfu2 (\n\t.clk(clk),\n\t.rst(rst),\n\t.i_data_ra(input_real2),\n\t.i_data_ca(input_imag2),\n\t.i_data_rb(input_real10),\n\t.i_data_cb(input_imag10),\n\t.twiddle_num(twiddle_index[2]),\n\t.o_data_ra(input_real10),\n\t.o_data_ca(input_imag10),\n\t.o_data_rb(input_real10),\n\t.o_data_cb(input_imag10));\nbutterfly_unit bfu3 (\n\t.clk(clk),\n\t.rst(rst),\n\t.i_data_ra(input_real3),\n\t.i_data_ca(input_imag3),\n\t.i_data_rb(input_real11),\n\t.i_data_cb(input_imag11),\n\t.twiddle_num(twiddle_index[3]),\n\t.o_data_ra(input_real11),\n\t.o_data_ca(input_imag11),\n\t.o_data_rb(input_real11),\n\t.o_data_cb(input_imag11));\n"
     ],
     "output_type": "stream"
    }
   ],
   "source": [
    "\"\"\"\n",
    "\tinput wire clk,\n",
    "\tinput wire rst,\n",
    "\tinput wire [data_size:0] i_data_ra,\n",
    "\tinput wire [data_size:0] i_data_ca,\n",
    "\tinput wire [data_size:0] i_data_rb,\n",
    "\tinput wire [data_size:0] i_data_cb,\n",
    "\tinput wire [3:0] twiddle_num,\n",
    "\toutput reg [data_size:0] o_data_ra,\n",
    "\toutput reg [data_size:0] o_data_ca,\n",
    "\toutput reg [data_size:0] o_data_rb,\n",
    "\toutput reg [data_size:0] o_data_cb\n",
    "\"\"\"\n",
    "for i in range(4):\n",
    "    print('butterfly_unit bfu', end='')\n",
    "    print(i, '(')\n",
    "    print('\\t.clk(clk),\\n\\t.rst(rst),\\n\\t.i_data_ra(input_real', end='')\n",
    "    print(i, end='')\n",
    "    print('),')\n",
    "    print('\\t.i_data_ca(input_imag', end='')\n",
    "    print(i, end='')\n",
    "    print('),')\n",
    "    print('\\t.i_data_rb(input_real', end='')\n",
    "    print(i+8, end='')\n",
    "    print('),')\n",
    "    print('\\t.i_data_cb(input_imag', end='')\n",
    "    print(i+8, end='')\n",
    "    print('),')\n",
    "    print('\\t.twiddle_num(twiddle_index[', end='') # twiddle generation indices prob incorrect\n",
    "    print(i, end='')\n",
    "    print(']),')\n",
    "    print('\\t.o_data_ra(input_real', end='')\n",
    "    print(i+8, end='')\n",
    "    print('),')\n",
    "    print('\\t.o_data_ca(input_imag', end='')\n",
    "    print(i+8, end='')\n",
    "    print('),')\n",
    "    print('\\t.o_data_rb(input_real', end='')\n",
    "    print(i+8, end='')\n",
    "    print('),')\n",
    "    print('\\t.o_data_cb(input_imag', end='')\n",
    "    print(i+8, end='')\n",
    "    print('));')\n",
    "    "
   ],
   "metadata": {
    "collapsed": false,
    "pycharm": {
     "name": "#%%\n",
     "is_executing": false
    }
   }
  }
 ],
 "metadata": {
  "kernelspec": {
   "display_name": "Python 3",
   "language": "python",
   "name": "python3"
  },
  "language_info": {
   "codemirror_mode": {
    "name": "ipython",
    "version": 2
   },
   "file_extension": ".py",
   "mimetype": "text/x-python",
   "name": "python",
   "nbconvert_exporter": "python",
   "pygments_lexer": "ipython2",
   "version": "2.7.6"
  },
  "pycharm": {
   "stem_cell": {
    "cell_type": "raw",
    "source": [],
    "metadata": {
     "collapsed": false
    }
   }
  }
 },
 "nbformat": 4,
 "nbformat_minor": 0
}